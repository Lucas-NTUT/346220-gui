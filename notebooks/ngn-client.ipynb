{
 "cells": [
  {
   "cell_type": "markdown",
   "metadata": {},
   "source": [
    "# Establishing an SCTP Connection"
   ]
  },
  {
   "cell_type": "markdown",
   "metadata": {},
   "source": [
    "Create an SCTP client"
   ]
  },
  {
   "cell_type": "code",
   "execution_count": 1,
   "metadata": {},
   "outputs": [
    {
     "name": "stdout",
     "output_type": "stream",
     "text": [
      "Message sent\n",
      "Received response: b'Hello from SCTP server'\n"
     ]
    }
   ],
   "source": [
    "import socket\n",
    "import sctp\n",
    "\n",
    "# Create an SCTP client socket\n",
    "client_socket = sctp.sctpsocket_tcp(socket.AF_INET)\n",
    "client_socket.connect(('127.0.0.1', 5000))\n",
    "\n",
    "# Send data\n",
    "message = b\"Hello from SCTP client\"\n",
    "client_socket.send(message)\n",
    "print(\"Message sent\")\n",
    "\n",
    "# Receive a response\n",
    "response = client_socket.recv(1024)\n",
    "print(f\"Received response: {response}\")\n",
    "\n",
    "# Close the connection\n",
    "client_socket.close()"
   ]
  },
  {
   "cell_type": "markdown",
   "metadata": {},
   "source": [
    "# Establishing an NGAP Connection"
   ]
  },
  {
   "cell_type": "markdown",
   "metadata": {},
   "source": [
    "NGAP Client"
   ]
  },
  {
   "cell_type": "code",
   "execution_count": 1,
   "metadata": {},
   "outputs": [
    {
     "name": "stdout",
     "output_type": "stream",
     "text": [
      "Connected to NGAP server at 127.0.0.1:38412\n",
      "Sending: b'This is a test NGAP message'\n",
      "Received: b'This is a test NGAP message'\n"
     ]
    }
   ],
   "source": [
    "import socket\n",
    "\n",
    "def ngap_client(host='127.0.0.1', port=38412):\n",
    "    # Create a TCP/IP socket\n",
    "    client_socket = socket.socket(socket.AF_INET, socket.SOCK_STREAM)\n",
    "\n",
    "    # Connect the socket to the server's port\n",
    "    client_socket.connect((host, port))\n",
    "    print(f\"Connected to NGAP server at {host}:{port}\")\n",
    "\n",
    "    try:\n",
    "        # Send data\n",
    "        message = b'This is a test NGAP message'\n",
    "        print(f\"Sending: {message}\")\n",
    "        client_socket.sendall(message)\n",
    "\n",
    "        # Look for the response\n",
    "        amount_received = 0\n",
    "        amount_expected = len(message)\n",
    "\n",
    "        while amount_received < amount_expected:\n",
    "            data = client_socket.recv(1024)\n",
    "            amount_received += len(data)\n",
    "            print(f\"Received: {data}\")\n",
    "\n",
    "    finally:\n",
    "        # Clean up the connection\n",
    "        client_socket.close()\n",
    "\n",
    "if __name__ == \"__main__\":\n",
    "    ngap_client()"
   ]
  },
  {
   "cell_type": "markdown",
   "metadata": {},
   "source": [
    "# Establishing an GTP-U Connection"
   ]
  },
  {
   "cell_type": "markdown",
   "metadata": {},
   "source": [
    "GTP-U Client"
   ]
  },
  {
   "cell_type": "code",
   "execution_count": 3,
   "metadata": {},
   "outputs": [
    {
     "name": "stdout",
     "output_type": "stream",
     "text": [
      "Sending GTP-U packet to 127.0.0.1:2152\n",
      "Received 4 bytes from server\n",
      "Response data: 32ff0008\n"
     ]
    }
   ],
   "source": [
    "import socket\n",
    "\n",
    "# GTP-U server address and port\n",
    "SERVER_ADDRESS = '127.0.0.1'\n",
    "GTPU_PORT = 2152\n",
    "\n",
    "def send_gtpu_packet():\n",
    "    # Create a UDP socket\n",
    "    client_socket = socket.socket(socket.AF_INET, socket.SOCK_DGRAM)\n",
    "    server_address = (SERVER_ADDRESS, GTPU_PORT)\n",
    "\n",
    "    # Create a GTP-U packet (example packet with minimal headers)\n",
    "    gtpu_packet = b'\\x32\\xff\\x00\\x08'  # Example GTP-U packet\n",
    "\n",
    "    try:\n",
    "        # Send GTP-U packet to server\n",
    "        print(f\"Sending GTP-U packet to {SERVER_ADDRESS}:{GTPU_PORT}\")\n",
    "        sent = client_socket.sendto(gtpu_packet, server_address)\n",
    "\n",
    "        # Receive response from server\n",
    "        data, server = client_socket.recvfrom(4096)\n",
    "        print(f\"Received {len(data)} bytes from server\")\n",
    "        print(f\"Response data: {data.hex()}\")\n",
    "\n",
    "    finally:\n",
    "        client_socket.close()\n",
    "\n",
    "if __name__ == \"__main__\":\n",
    "    send_gtpu_packet()"
   ]
  }
 ],
 "metadata": {
  "kernelspec": {
   "display_name": "Python 3",
   "language": "python",
   "name": "python3"
  },
  "language_info": {
   "codemirror_mode": {
    "name": "ipython",
    "version": 3
   },
   "file_extension": ".py",
   "mimetype": "text/x-python",
   "name": "python",
   "nbconvert_exporter": "python",
   "pygments_lexer": "ipython3",
   "version": "3.9.5"
  }
 },
 "nbformat": 4,
 "nbformat_minor": 2
}
