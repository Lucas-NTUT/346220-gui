{
 "cells": [
  {
   "cell_type": "markdown",
   "metadata": {},
   "source": [
    "# Establishing an SCTP Connection"
   ]
  },
  {
   "cell_type": "markdown",
   "metadata": {},
   "source": [
    "Create an SCTP server"
   ]
  },
  {
   "cell_type": "code",
   "execution_count": 1,
   "metadata": {},
   "outputs": [
    {
     "name": "stdout",
     "output_type": "stream",
     "text": [
      "SCTP server is listening on port 5000\n",
      "Connection accepted from ('127.0.0.1', 42138)\n",
      "Received data: b'Hello from SCTP client'\n",
      "Response sent\n"
     ]
    }
   ],
   "source": [
    "import socket\n",
    "import sctp\n",
    "\n",
    "# Create an SCTP server socket\n",
    "server_socket = sctp.sctpsocket_tcp(socket.AF_INET)\n",
    "server_socket.bind(('0.0.0.0', 5000))\n",
    "server_socket.listen(1)\n",
    "\n",
    "print(\"SCTP server is listening on port 5000\")\n",
    "\n",
    "# Accept a connection\n",
    "conn, addr = server_socket.accept()\n",
    "print(f\"Connection accepted from {addr}\")\n",
    "\n",
    "# Receive data\n",
    "data = conn.recv(1024)\n",
    "print(f\"Received data: {data}\")\n",
    "\n",
    "# Send a response\n",
    "response = b\"Hello from SCTP server\"\n",
    "conn.send(response)\n",
    "print(\"Response sent\")\n",
    "\n",
    "# Close the connection\n",
    "conn.close()\n",
    "server_socket.close()"
   ]
  },
  {
   "cell_type": "markdown",
   "metadata": {},
   "source": [
    "# Establishing an NGAP Connection"
   ]
  },
  {
   "cell_type": "markdown",
   "metadata": {},
   "source": [
    "NGAP Server"
   ]
  },
  {
   "cell_type": "code",
   "execution_count": 1,
   "metadata": {},
   "outputs": [
    {
     "name": "stdout",
     "output_type": "stream",
     "text": [
      "NGAP server is listening on 127.0.0.1:38412\n",
      "Waiting for a connection...\n",
      "Connection from ('127.0.0.1', 53772)\n",
      "Received: b'This is a test NGAP message'\n",
      "Waiting for a connection...\n"
     ]
    },
    {
     "ename": "KeyboardInterrupt",
     "evalue": "",
     "output_type": "error",
     "traceback": [
      "\u001b[0;31m---------------------------------------------------------------------------\u001b[0m",
      "\u001b[0;31mKeyboardInterrupt\u001b[0m                         Traceback (most recent call last)",
      "Cell \u001b[0;32mIn[1], line 32\u001b[0m\n\u001b[1;32m     29\u001b[0m             connection\u001b[38;5;241m.\u001b[39mclose()\n\u001b[1;32m     31\u001b[0m \u001b[38;5;28;01mif\u001b[39;00m \u001b[38;5;18m__name__\u001b[39m \u001b[38;5;241m==\u001b[39m \u001b[38;5;124m\"\u001b[39m\u001b[38;5;124m__main__\u001b[39m\u001b[38;5;124m\"\u001b[39m:\n\u001b[0;32m---> 32\u001b[0m     \u001b[43mngap_server\u001b[49m\u001b[43m(\u001b[49m\u001b[43m)\u001b[49m\n",
      "Cell \u001b[0;32mIn[1], line 13\u001b[0m, in \u001b[0;36mngap_server\u001b[0;34m(host, port)\u001b[0m\n\u001b[1;32m     10\u001b[0m \u001b[38;5;28;01mwhile\u001b[39;00m \u001b[38;5;28;01mTrue\u001b[39;00m:\n\u001b[1;32m     11\u001b[0m     \u001b[38;5;66;03m# Wait for a connection\u001b[39;00m\n\u001b[1;32m     12\u001b[0m     \u001b[38;5;28mprint\u001b[39m(\u001b[38;5;124m'\u001b[39m\u001b[38;5;124mWaiting for a connection...\u001b[39m\u001b[38;5;124m'\u001b[39m)\n\u001b[0;32m---> 13\u001b[0m     connection, client_address \u001b[38;5;241m=\u001b[39m \u001b[43mserver_socket\u001b[49m\u001b[38;5;241;43m.\u001b[39;49m\u001b[43maccept\u001b[49m\u001b[43m(\u001b[49m\u001b[43m)\u001b[49m\n\u001b[1;32m     15\u001b[0m     \u001b[38;5;28;01mtry\u001b[39;00m:\n\u001b[1;32m     16\u001b[0m         \u001b[38;5;28mprint\u001b[39m(\u001b[38;5;124mf\u001b[39m\u001b[38;5;124m\"\u001b[39m\u001b[38;5;124mConnection from \u001b[39m\u001b[38;5;132;01m{\u001b[39;00mclient_address\u001b[38;5;132;01m}\u001b[39;00m\u001b[38;5;124m\"\u001b[39m)\n",
      "File \u001b[0;32m/usr/lib/python3.9/socket.py:293\u001b[0m, in \u001b[0;36msocket.accept\u001b[0;34m(self)\u001b[0m\n\u001b[1;32m    286\u001b[0m \u001b[38;5;28;01mdef\u001b[39;00m \u001b[38;5;21maccept\u001b[39m(\u001b[38;5;28mself\u001b[39m):\n\u001b[1;32m    287\u001b[0m \u001b[38;5;250m    \u001b[39m\u001b[38;5;124;03m\"\"\"accept() -> (socket object, address info)\u001b[39;00m\n\u001b[1;32m    288\u001b[0m \n\u001b[1;32m    289\u001b[0m \u001b[38;5;124;03m    Wait for an incoming connection.  Return a new socket\u001b[39;00m\n\u001b[1;32m    290\u001b[0m \u001b[38;5;124;03m    representing the connection, and the address of the client.\u001b[39;00m\n\u001b[1;32m    291\u001b[0m \u001b[38;5;124;03m    For IP sockets, the address info is a pair (hostaddr, port).\u001b[39;00m\n\u001b[1;32m    292\u001b[0m \u001b[38;5;124;03m    \"\"\"\u001b[39;00m\n\u001b[0;32m--> 293\u001b[0m     fd, addr \u001b[38;5;241m=\u001b[39m \u001b[38;5;28;43mself\u001b[39;49m\u001b[38;5;241;43m.\u001b[39;49m\u001b[43m_accept\u001b[49m\u001b[43m(\u001b[49m\u001b[43m)\u001b[49m\n\u001b[1;32m    294\u001b[0m     sock \u001b[38;5;241m=\u001b[39m socket(\u001b[38;5;28mself\u001b[39m\u001b[38;5;241m.\u001b[39mfamily, \u001b[38;5;28mself\u001b[39m\u001b[38;5;241m.\u001b[39mtype, \u001b[38;5;28mself\u001b[39m\u001b[38;5;241m.\u001b[39mproto, fileno\u001b[38;5;241m=\u001b[39mfd)\n\u001b[1;32m    295\u001b[0m     \u001b[38;5;66;03m# Issue #7995: if no default timeout is set and the listening\u001b[39;00m\n\u001b[1;32m    296\u001b[0m     \u001b[38;5;66;03m# socket had a (non-zero) timeout, force the new socket in blocking\u001b[39;00m\n\u001b[1;32m    297\u001b[0m     \u001b[38;5;66;03m# mode to override platform-specific socket flags inheritance.\u001b[39;00m\n",
      "\u001b[0;31mKeyboardInterrupt\u001b[0m: "
     ]
    }
   ],
   "source": [
    "import socket\n",
    "\n",
    "def ngap_server(host='127.0.0.1', port=38412):\n",
    "    # Create a TCP/IP socket\n",
    "    server_socket = socket.socket(socket.AF_INET, socket.SOCK_STREAM)\n",
    "    server_socket.bind((host, port))\n",
    "    server_socket.listen(1)\n",
    "    print(f\"NGAP server is listening on {host}:{port}\")\n",
    "\n",
    "    while True:\n",
    "        # Wait for a connection\n",
    "        print('Waiting for a connection...')\n",
    "        connection, client_address = server_socket.accept()\n",
    "\n",
    "        try:\n",
    "            print(f\"Connection from {client_address}\")\n",
    "\n",
    "            # Receive the data in small chunks and retransmit it\n",
    "            while True:\n",
    "                data = connection.recv(1024)\n",
    "                if data:\n",
    "                    print(f\"Received: {data}\")\n",
    "                    # Echo back the received data\n",
    "                    connection.sendall(data)\n",
    "                else:\n",
    "                    break\n",
    "        finally:\n",
    "            # Clean up the connection\n",
    "            connection.close()\n",
    "\n",
    "if __name__ == \"__main__\":\n",
    "    ngap_server()"
   ]
  },
  {
   "cell_type": "markdown",
   "metadata": {},
   "source": [
    "# Establishing an GTP-U Connection"
   ]
  },
  {
   "cell_type": "markdown",
   "metadata": {},
   "source": [
    "GTP-U Server"
   ]
  },
  {
   "cell_type": "code",
   "execution_count": null,
   "metadata": {},
   "outputs": [
    {
     "name": "stdout",
     "output_type": "stream",
     "text": [
      "GTP-U server is running on port 2152...\n",
      "Received 4 bytes from ('127.0.0.1', 34852)\n",
      "GTP-U packet data: 32ff0008\n"
     ]
    }
   ],
   "source": [
    "import socket\n",
    "\n",
    "# GTP-U port number\n",
    "GTPU_PORT = 2152\n",
    "\n",
    "def start_gtpu_server():\n",
    "    # Create a UDP socket\n",
    "    server_socket = socket.socket(socket.AF_INET, socket.SOCK_DGRAM)\n",
    "    server_address = ('0.0.0.0', GTPU_PORT)\n",
    "    server_socket.bind(server_address)\n",
    "\n",
    "    print(f\"GTP-U server is running on port {GTPU_PORT}...\")\n",
    "\n",
    "    while True:\n",
    "        # Receive data from client\n",
    "        data, client_address = server_socket.recvfrom(4096)\n",
    "        print(f\"Received {len(data)} bytes from {client_address}\")\n",
    "\n",
    "        # Process the GTP-U packet (here we just print it)\n",
    "        print(f\"GTP-U packet data: {data.hex()}\")\n",
    "\n",
    "        # Send a response back to the client (optional)\n",
    "        if data:\n",
    "            response = b'\\x32\\xff\\x00\\x08'  # Example GTP-U response packet\n",
    "            server_socket.sendto(response, client_address)\n",
    "\n",
    "if __name__ == \"__main__\":\n",
    "    start_gtpu_server()"
   ]
  }
 ],
 "metadata": {
  "kernelspec": {
   "display_name": "Python 3",
   "language": "python",
   "name": "python3"
  },
  "language_info": {
   "codemirror_mode": {
    "name": "ipython",
    "version": 3
   },
   "file_extension": ".py",
   "mimetype": "text/x-python",
   "name": "python",
   "nbconvert_exporter": "python",
   "pygments_lexer": "ipython3",
   "version": "3.9.5"
  }
 },
 "nbformat": 4,
 "nbformat_minor": 2
}
